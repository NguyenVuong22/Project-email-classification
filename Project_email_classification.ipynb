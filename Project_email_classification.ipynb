{
  "nbformat": 4,
  "nbformat_minor": 0,
  "metadata": {
    "colab": {
      "provenance": [],
      "gpuType": "T4",
      "authorship_tag": "ABX9TyMvAVdWQB8rdHUNV+1fXfmX",
      "include_colab_link": true
    },
    "kernelspec": {
      "name": "python3",
      "display_name": "Python 3"
    },
    "language_info": {
      "name": "python"
    },
    "accelerator": "GPU"
  },
  "cells": [
    {
      "cell_type": "markdown",
      "metadata": {
        "id": "view-in-github",
        "colab_type": "text"
      },
      "source": [
        "<a href=\"https://colab.research.google.com/github/NguyenVuong22/Project-email-classification/blob/feature%2Femail_classification/Project_email_classification.ipynb\" target=\"_parent\"><img src=\"https://colab.research.google.com/assets/colab-badge.svg\" alt=\"Open In Colab\"/></a>"
      ]
    },
    {
      "cell_type": "markdown",
      "source": [
        "**1. Tải bộ dữ liệu về máy**"
      ],
      "metadata": {
        "id": "OmEBst7KfZhw"
      }
    },
    {
      "cell_type": "code",
      "execution_count": 1,
      "metadata": {
        "colab": {
          "base_uri": "https://localhost:8080/"
        },
        "id": "5rwSNy4LXABN",
        "outputId": "cf7c16c1-b31b-4371-a48f-51d2d64ed3a9"
      },
      "outputs": [
        {
          "output_type": "stream",
          "name": "stdout",
          "text": [
            "/usr/local/lib/python3.10/dist-packages/gdown/__main__.py:132: FutureWarning: Option `--id` was deprecated in version 4.3.1 and will be removed in 5.0. You don't need to pass it anymore to use a file ID.\n",
            "  warnings.warn(\n",
            "Downloading...\n",
            "From: https://drive.google.com/uc?id=1N7rk-kfnDFIGMeX0ROVTjKh71gcgx-7R\n",
            "To: /content/2cls_spam_text_cls.csv\n",
            "100% 486k/486k [00:00<00:00, 78.2MB/s]\n"
          ]
        }
      ],
      "source": [
        "!gdown --id 1N7rk-kfnDFIGMeX0ROVTjKh71gcgx-7R"
      ]
    },
    {
      "cell_type": "markdown",
      "source": [
        "**2. Import các thư viện cần thiết:**"
      ],
      "metadata": {
        "id": "vDpEnBs8f0Ed"
      }
    },
    {
      "cell_type": "code",
      "source": [
        "import string\n",
        "import nltk\n",
        "nltk.download('stopwords')\n",
        "nltk.download ('punkt')\n",
        "import pandas as pd\n",
        "import numpy as np\n",
        "import matplotlib.pyplot as plt\n",
        "\n",
        "from sklearn.model_selection import train_test_split\n",
        "from sklearn.naive_bayes import GaussianNB\n",
        "from sklearn.metrics import accuracy_score\n",
        "from sklearn.preprocessing import LabelEncoder"
      ],
      "metadata": {
        "colab": {
          "base_uri": "https://localhost:8080/"
        },
        "id": "YR6_dCt8XkLJ",
        "outputId": "756b7fa3-a5fa-47f1-a7b0-c9a9e72cc973"
      },
      "execution_count": 2,
      "outputs": [
        {
          "output_type": "stream",
          "name": "stderr",
          "text": [
            "[nltk_data] Downloading package stopwords to /root/nltk_data...\n",
            "[nltk_data]   Unzipping corpora/stopwords.zip.\n",
            "[nltk_data] Downloading package punkt to /root/nltk_data...\n",
            "[nltk_data]   Unzipping tokenizers/punkt.zip.\n"
          ]
        }
      ]
    },
    {
      "cell_type": "markdown",
      "source": [
        "**3. Đọc dữ liệu**"
      ],
      "metadata": {
        "id": "h2DUdDaPgGa2"
      }
    },
    {
      "cell_type": "code",
      "source": [
        "DATASET_PATH = '/content/2cls_spam_text_cls.csv'\n",
        "df = pd.read_csv (DATASET_PATH)\n",
        "print(df)\n",
        "\n",
        "messages = df['Message'].values.tolist()\n",
        "labels = df['Category'].values.tolist()"
      ],
      "metadata": {
        "colab": {
          "base_uri": "https://localhost:8080/"
        },
        "id": "FQnIcJMmYABF",
        "outputId": "b8fe917d-5f83-4aa8-8ee5-b8c3f73204a1"
      },
      "execution_count": 3,
      "outputs": [
        {
          "output_type": "stream",
          "name": "stdout",
          "text": [
            "     Category                                            Message\n",
            "0         ham  Go until jurong point, crazy.. Available only ...\n",
            "1         ham                      Ok lar... Joking wif u oni...\n",
            "2        spam  Free entry in 2 a wkly comp to win FA Cup fina...\n",
            "3         ham  U dun say so early hor... U c already then say...\n",
            "4         ham  Nah I don't think he goes to usf, he lives aro...\n",
            "...       ...                                                ...\n",
            "5567     spam  This is the 2nd time we have tried 2 contact u...\n",
            "5568      ham               Will ü b going to esplanade fr home?\n",
            "5569      ham  Pity, * was in mood for that. So...any other s...\n",
            "5570      ham  The guy did some bitching but I acted like i'd...\n",
            "5571      ham                         Rofl. Its true to its name\n",
            "\n",
            "[5572 rows x 2 columns]\n"
          ]
        }
      ]
    },
    {
      "cell_type": "markdown",
      "source": [
        "**4. Tiền xử lý dữ liệu nhãn**"
      ],
      "metadata": {
        "id": "avMm3S9ogYqj"
      }
    },
    {
      "cell_type": "code",
      "source": [
        "le = LabelEncoder()\n",
        "y = le.fit_transform(labels)\n",
        "print(f'Classes: {le.classes_}')\n",
        "print(f'Encoded labels: {y}')"
      ],
      "metadata": {
        "colab": {
          "base_uri": "https://localhost:8080/"
        },
        "id": "j1Upq8BJYgLp",
        "outputId": "bfe00f8f-56e7-4dcc-e071-ace8ec70fe71"
      },
      "execution_count": 4,
      "outputs": [
        {
          "output_type": "stream",
          "name": "stdout",
          "text": [
            "Classes: ['ham' 'spam']\n",
            "Encoded labels: [0 0 1 ... 0 0 0]\n"
          ]
        }
      ]
    },
    {
      "cell_type": "markdown",
      "source": [
        "**5. Tiền xử lý dữ liệu đặc trưng**"
      ],
      "metadata": {
        "id": "2KBp3Uqpg6sA"
      }
    },
    {
      "cell_type": "code",
      "source": [
        "def lowercase(text) :\n",
        "  return text.lower()\n",
        "\n",
        "def punctuation_removal(text):\n",
        "  translator = str.maketrans('', '', string.punctuation)\n",
        "  return text.translate(translator)\n",
        "\n",
        "def tokenize (text):\n",
        "  return nltk.word_tokenize(text)\n",
        "\n",
        "def remove_stopwords (tokens):\n",
        "  stop_words = nltk.corpus.stopwords.words('english')\n",
        "\n",
        "  return [token for token in tokens if token not in stop_words]\n",
        "\n",
        "def stemming (tokens) :\n",
        "  stemmer = nltk.PorterStemmer ()\n",
        "\n",
        "  return [stemmer.stem (token) for token in tokens]\n",
        "\n",
        "def preprocess_text (text):\n",
        "  text = lowercase(text)\n",
        "  text = punctuation_removal(text)\n",
        "  tokens = tokenize(text)\n",
        "  tokens = remove_stopwords(tokens)\n",
        "  tokens = stemming(tokens)\n",
        "\n",
        "  return tokens\n"
      ],
      "metadata": {
        "id": "g9bh7sM7YnHK"
      },
      "execution_count": 5,
      "outputs": []
    },
    {
      "cell_type": "code",
      "source": [
        "messages = [str(message) if not isinstance(message, str) else message for message in messages]\n",
        "messages = [preprocess_text(message) for message in messages]\n"
      ],
      "metadata": {
        "id": "LEj5NrhHY73i"
      },
      "execution_count": 15,
      "outputs": []
    },
    {
      "cell_type": "markdown",
      "source": [
        "**6. Tạo một bộ từ điển dictionary**"
      ],
      "metadata": {
        "id": "gXvuonsqhU3n"
      }
    },
    {
      "cell_type": "code",
      "source": [
        "def create_dictionary (messages) :\n",
        "  dictionary = []\n",
        "\n",
        "  for tokens in messages :\n",
        "    for token in tokens :\n",
        "      if token not in dictionary :\n",
        "        dictionary.append (token )\n",
        "\n",
        "  return dictionary\n",
        "\n",
        "dictionary = create_dictionary (messages)\n"
      ],
      "metadata": {
        "id": "HXzrcYKGaRYT"
      },
      "execution_count": 16,
      "outputs": []
    },
    {
      "cell_type": "markdown",
      "source": [
        "**Tạo ra những đặc trưng đại diện cho thông tin**"
      ],
      "metadata": {
        "id": "inplDVRIim9I"
      }
    },
    {
      "cell_type": "code",
      "source": [
        "def create_features(tokens, dictionary):\n",
        "    features = np.zeros(len(dictionary))\n",
        "\n",
        "    for token in tokens:\n",
        "        if token in dictionary:\n",
        "            features[dictionary.index(token)] += 1\n",
        "\n",
        "    return features\n",
        "\n",
        "X = np.array([ create_features (tokens, dictionary) for tokens in messages])\n"
      ],
      "metadata": {
        "id": "1k8kr8wgZT04"
      },
      "execution_count": 10,
      "outputs": []
    },
    {
      "cell_type": "markdown",
      "source": [
        "**7.Chia bộ dữ liệu train/val/test:**"
      ],
      "metadata": {
        "id": "Nua5ilANjalm"
      }
    },
    {
      "cell_type": "code",
      "source": [
        "VAL_SIZE = 0.2\n",
        "TEST_SIZE = 0.125\n",
        "SEED = 0\n",
        "\n",
        "X_train, X_val, y_train, y_val = train_test_split(X, y,\n",
        "                                                  test_size=VAL_SIZE,\n",
        "                                                  shuffle=True,\n",
        "                                                  random_state=SEED)\n",
        "X_train, X_test, y_train, y_test = train_test_split(X_train, y_train,\n",
        "                                                    test_size=TEST_SIZE,\n",
        "                                                    shuffle=True,\n",
        "                                                    random_state=SEED)"
      ],
      "metadata": {
        "id": "jbNGdElAaf_L"
      },
      "execution_count": 11,
      "outputs": []
    },
    {
      "cell_type": "markdown",
      "source": [
        "**8. Huấn luyện mô hình**"
      ],
      "metadata": {
        "id": "c4cl1rlejwNd"
      }
    },
    {
      "cell_type": "code",
      "source": [
        "%%time\n",
        "model = GaussianNB()\n",
        "print('Start training...')\n",
        "model = model.fit(X_train, y_train)\n",
        "print('Training completed!')"
      ],
      "metadata": {
        "colab": {
          "base_uri": "https://localhost:8080/"
        },
        "id": "7p4tBK6HazMh",
        "outputId": "b40164c1-06a6-4544-f9c8-06148f352f99"
      },
      "execution_count": 12,
      "outputs": [
        {
          "output_type": "stream",
          "name": "stdout",
          "text": [
            "Start training...\n",
            "Training completed!\n",
            "CPU times: user 313 ms, sys: 142 ms, total: 455 ms\n",
            "Wall time: 446 ms\n"
          ]
        }
      ]
    },
    {
      "cell_type": "markdown",
      "source": [
        "**9. Đánh giá mô hình**"
      ],
      "metadata": {
        "id": "jEAuojqXk6Ze"
      }
    },
    {
      "cell_type": "code",
      "source": [
        "y_val_pred = model.predict (X_val)\n",
        "y_test_pred = model.predict (X_test )\n",
        "\n",
        "val_accuracy = accuracy_score (y_val , y_val_pred )\n",
        "test_accuracy = accuracy_score (y_test , y_test_pred )\n",
        "\n",
        "print (f'Val accuracy: {val_accuracy}')\n",
        "print (f'Test accuracy: {test_accuracy}')"
      ],
      "metadata": {
        "colab": {
          "base_uri": "https://localhost:8080/"
        },
        "id": "FMjaznzAby_2",
        "outputId": "de8509fc-742e-43b9-da93-f30d1a0baa4a"
      },
      "execution_count": 13,
      "outputs": [
        {
          "output_type": "stream",
          "name": "stdout",
          "text": [
            "Val accuracy: 0.8816143497757848\n",
            "Test accuracy: 0.8602150537634409\n"
          ]
        }
      ]
    },
    {
      "cell_type": "markdown",
      "source": [
        "**10. Thực hiện dự đoán**"
      ],
      "metadata": {
        "id": "BrZ-KX06lAKp"
      }
    },
    {
      "cell_type": "code",
      "source": [
        "def predict (text, model, dictionary):\n",
        "  processed_text = preprocess_text(text)\n",
        "  features = create_features(text, dictionary)\n",
        "  features = np.array(features).reshape (1,-1)\n",
        "  prediction = model.predict(features )\n",
        "  prediction_cls = le.inverse_transform (prediction)[0]\n",
        "  return prediction_cls\n",
        "\n",
        "test_input = 'I am actually thinking a way of doing something useful'\n",
        "prediction_cls = predict(test_input, model, dictionary)\n",
        "print(f'Prediction : {prediction_cls}')"
      ],
      "metadata": {
        "colab": {
          "base_uri": "https://localhost:8080/"
        },
        "id": "B3gQZ5CbcNjr",
        "outputId": "7ea95f56-a3e0-43c4-8b09-665ad483a0b0"
      },
      "execution_count": 14,
      "outputs": [
        {
          "output_type": "stream",
          "name": "stdout",
          "text": [
            "Prediction : ham\n"
          ]
        }
      ]
    }
  ]
}